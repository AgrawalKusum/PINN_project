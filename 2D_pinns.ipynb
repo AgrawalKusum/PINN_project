{
 "cells": [
  {
   "cell_type": "code",
   "execution_count": 1,
   "metadata": {},
   "outputs": [],
   "source": [
    "import numpy as np\n",
    "import torch\n",
    "import torch.nn as nn\n",
    "import torch.optim as optim"
   ]
  },
  {
   "cell_type": "markdown",
   "metadata": {},
   "source": [
    "defining nn"
   ]
  },
  {
   "cell_type": "code",
   "execution_count": 4,
   "metadata": {},
   "outputs": [],
   "source": [
    "class PINN(nn.Module):\n",
    "    def __init__(self):\n",
    "        super(PINN,self).__init__()\n",
    "        self.layers = nn.Sequential(\n",
    "            nn.Linear(2,60),\n",
    "            nn.Tanh(),\n",
    "            nn.Linear(60,60),\n",
    "            nn.Tanh(),\n",
    "            nn.Linear(60,60),\n",
    "            nn.Tanh(),\n",
    "            nn.Linear(60, 60),\n",
    "            nn.Tanh(),\n",
    "            nn.Linear(60, 60),\n",
    "            nn.Tanh(),\n",
    "            nn.Linear(60, 60),\n",
    "            nn.Tanh(),\n",
    "            nn.Linear(60, 60),\n",
    "            nn.Tanh(),\n",
    "            nn.Linear(60, 60),\n",
    "            nn.Tanh(),\n",
    "            nn.Linear(60, 3), #outputs u, v, p\n",
    "            )\n",
    "        self.init_weights()\n",
    "    def init_weights(self):\n",
    "            for m in self.layers:\n",
    "                if isinstance(m, nn.Linear):\n",
    "                    nn.init.xavier_normal_(m.weight)  # Xavier initialization\n",
    "                    nn.init.zeros_(m.bias)  # Zero bias #improvisation for vanishing/exploding gradients'''\n",
    "\n",
    "    def forward(self, x):\n",
    "            x = x.requires_grad_(True)  # Ensure gradients are tracked\n",
    "            return self.layers(x)\n",
    "\n",
    "\n",
    "  "
   ]
  },
  {
   "cell_type": "markdown",
   "metadata": {},
   "source": [
    "loss functions"
   ]
  },
  {
   "cell_type": "code",
   "execution_count": 5,
   "metadata": {},
   "outputs": [],
   "source": [
    "def pde_loss(model, x, y, rho=1.0, mu=0.01):\n",
    "    xy=torch.cat([x,y],dim=1)\n",
    "    xy.requires_grad_(True)\n",
    "    output=model(xy)\n",
    "    u, v, p= output[:,0:1], output[:,1:2], output[:,2:3]\n",
    "\n",
    "    #first order derivatives\n",
    "    u_x = torch.autograd.grad(u, xy, grad_outputs=torch.ones_like(u), create_graph=True)[0][:, 0:1]\n",
    "    u_y = torch.autograd.grad(u, xy, grad_outputs=torch.ones_like(u), create_graph=True)[0][:, 1:2]\n",
    "    v_x = torch.autograd.grad(v, xy, grad_outputs=torch.ones_like(v), create_graph=True)[0][:, 0:1]\n",
    "    v_y = torch.autograd.grad(v, xy, grad_outputs=torch.ones_like(v), create_graph=True)[0][:, 1:2]\n",
    "    p_x = torch.autograd.grad(p, xy, grad_outputs=torch.ones_like(p), create_graph=True)[0][:, 0:1]\n",
    "    p_y = torch.autograd.grad(p, xy, grad_outputs=torch.ones_like(p), create_graph=True)[0][:, 1:2]\n",
    "\n",
    "    #second order derivatives\n",
    "    u_xx = torch.autograd.grad(u_x, xy, grad_outputs=torch.ones_like(u_x), create_graph=True)[0][:, 0:1]\n",
    "    u_yy = torch.autograd.grad(u_y, xy, grad_outputs=torch.ones_like(u_y), create_graph=True)[0][:, 1:2]\n",
    "    v_xx = torch.autograd.grad(v_x, xy, grad_outputs=torch.ones_like(v_x), create_graph=True)[0][:, 0:1]\n",
    "    v_yy = torch.autograd.grad(v_y, xy, grad_outputs=torch.ones_like(v_y), create_graph=True)[0][:, 1:2]\n",
    "\n",
    "    #pde residuals\n",
    "    continuity= u_x + v_y\n",
    "    momentum_x = -p_x + mu * (u_xx + u_yy) - rho * (u * u_x + v * u_y)  # x-momentum\n",
    "    momentum_y = -p_y + mu * (v_xx + v_yy) - rho * (u * v_x + v * v_y)  # y-momentum\n",
    "\n",
    "    #loss function(mse for residuals)\n",
    "    loss_pde = (continuity**2).mean() + (momentum_x**2).mean() + (momentum_y**2).mean()\n",
    "    return loss_pde\n",
    "\n",
    "pinn=PINN()\n",
    "optimizer = optim.Adam(pinn.parameters(), lr=0.001)\n",
    "\n",
    "#training data\n",
    "x_train=torch.rand(1000,1,requires_grad=True)*2-1\n",
    "y_train=torch.rand(1000,1,requires_grad=True)*2-1\n"
   ]
  },
  {
   "cell_type": "markdown",
   "metadata": {},
   "source": [
    "training loop"
   ]
  },
  {
   "cell_type": "code",
   "execution_count": null,
   "metadata": {},
   "outputs": [],
   "source": [
    "for epoch in range(5000):\n",
    "    optimizer.zero_grad()\n",
    "    loss = pde_loss(pinn, x_train, y_train)\n",
    "    loss.backward()\n",
    "    optimizer.step()\n",
    "    \n",
    "    if epoch % 500 == 0:\n",
    "        print(f\"Epoch {epoch}: Loss = {loss.item()}\")\n"
   ]
  }
 ],
 "metadata": {
  "kernelspec": {
   "display_name": "env1",
   "language": "python",
   "name": "python3"
  },
  "language_info": {
   "codemirror_mode": {
    "name": "ipython",
    "version": 3
   },
   "file_extension": ".py",
   "mimetype": "text/x-python",
   "name": "python",
   "nbconvert_exporter": "python",
   "pygments_lexer": "ipython3",
   "version": "3.12.3"
  }
 },
 "nbformat": 4,
 "nbformat_minor": 2
}
