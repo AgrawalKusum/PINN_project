{
 "cells": [
  {
   "cell_type": "markdown",
   "metadata": {
    "id": "5JW2wpT7rDxm"
   },
   "source": [
    "Simulation of N-S equation using PINNS:\n",
    "a) nn to model velocity(u,v,w) and pressure p\n",
    "b) loss function enforcing continuity and momentum eqns\n",
    "c) training loop with Adam optimizer"
   ]
  },
  {
   "cell_type": "markdown",
   "metadata": {
    "id": "Svmk8WV21cUF"
   },
   "source": [
    "Necessary imports"
   ]
  },
  {
   "cell_type": "code",
   "execution_count": 1,
   "metadata": {
    "executionInfo": {
     "elapsed": 781,
     "status": "ok",
     "timestamp": 1735465884020,
     "user": {
      "displayName": "Kusum Agrawal",
      "userId": "07931089790696216293"
     },
     "user_tz": -330
    },
    "id": "Y-xxJYGmrMed"
   },
   "outputs": [],
   "source": [
    "import numpy as np\n",
    "import torch\n",
    "import torch.nn as nn\n",
    "import torch.optim as optim"
   ]
  },
  {
   "cell_type": "markdown",
   "metadata": {
    "id": "qQ4Z3HBzrlce"
   },
   "source": [
    "Define the neural network"
   ]
  },
  {
   "cell_type": "code",
   "execution_count": 28,
   "metadata": {
    "executionInfo": {
     "elapsed": 4,
     "status": "ok",
     "timestamp": 1735465886721,
     "user": {
      "displayName": "Kusum Agrawal",
      "userId": "07931089790696216293"
     },
     "user_tz": -330
    },
    "id": "tzjPdJrtrrbM"
   },
   "outputs": [],
   "source": [
    "class PINN(nn.Module):\n",
    "  def __init__(self):\n",
    "    super(PINN,self).__init__()\n",
    "    self.layers = nn.Sequential(\n",
    "        nn.Linear(3,128),\n",
    "        nn.Tanh(),\n",
    "        nn.Linear(128,128),\n",
    "        nn.Tanh(),\n",
    "        nn.Linear(128,128),\n",
    "        nn.Tanh(),\n",
    "        nn.Linear(128, 4)     #outputs u, v, w, p\n",
    "    )\n",
    "\n",
    "\n",
    "  def forward(self, x):\n",
    "      return self.layers(x)\n"
   ]
  },
  {
   "cell_type": "markdown",
   "metadata": {
    "id": "uvwWbPGMtFFw"
   },
   "source": [
    "Physics informed Loss Function"
   ]
  },
  {
   "cell_type": "code",
   "execution_count": 29,
   "metadata": {
    "executionInfo": {
     "elapsed": 532,
     "status": "ok",
     "timestamp": 1735465892167,
     "user": {
      "displayName": "Kusum Agrawal",
      "userId": "07931089790696216293"
     },
     "user_tz": -330
    },
    "id": "AKNogdhDtKLI"
   },
   "outputs": [],
   "source": [
    "def pinn_loss(model, collocation_points, boundary_points, boundary_values, Re):\n",
    "  u,v,w,p=torch.split(model(collocation_points),1, dim=1)\n",
    "\n",
    "  #derivatives\n",
    "  grads = lambda f,x: torch.autograd.grad(f,x,grad_outputs=torch.ones_like(f),create_graph=True)[0]\n",
    "\n",
    "  du_dx=grads(u,collocation_points)[:, 0:1]\n",
    "  du_dy=grads(u, collocation_points)[:,1:2]\n",
    "  du_dz=grads(u, collocation_points)[:,2:3]\n",
    "\n",
    "  dv_dx = grads(v, collocation_points)[:, 0:1]\n",
    "  dv_dy = grads(v, collocation_points)[:, 1:2]\n",
    "  dv_dz = grads(v, collocation_points)[:, 2:3]\n",
    "\n",
    "  dw_dx = grads(w, collocation_points)[:, 0:1]\n",
    "  dw_dy = grads(w, collocation_points)[:, 1:2]\n",
    "  dw_dz = grads(w, collocation_points)[:, 2:3]\n",
    "\n",
    "  dp_dx = grads(p, collocation_points)[:, 0:1]\n",
    "  dp_dy = grads(p, collocation_points)[:, 1:2]\n",
    "  dp_dz = grads(p, collocation_points)[:, 2:3]\n",
    "\n",
    "  #continuity eqn\n",
    "  continuity = du_dx + dv_dy +dw_dz\n",
    "\n",
    "  #momentum eqn\n",
    "  momentum_x = u * du_dx + v * du_dy + w * du_dz + dp_dx - (1 / Re) * (grads(du_dx, collocation_points)[:, 0:1] + grads(du_dy, collocation_points)[:, 1:2] + grads(du_dz, collocation_points)[:, 2:3])\n",
    "  momentum_y = u * dv_dx + v * dv_dy + w * dv_dz + dp_dy - (1 / Re) * (grads(dv_dx, collocation_points)[:, 0:1] + grads(dv_dy, collocation_points)[:, 1:2] + grads(dv_dz, collocation_points)[:, 2:3])\n",
    "  momentum_z = u * dw_dx + v * dw_dy + w * dw_dz + dp_dz - (1 / Re) * (grads(dw_dx, collocation_points)[:, 0:1] + grads(dw_dy, collocation_points)[:, 1:2] + grads(dw_dz, collocation_points)[:, 2:3])\n",
    "\n",
    "  #boundary loss\n",
    "  u_boundary, v_boundary, w_boundary, p_boundary = torch.split(model(boundary_points), 1, dim=1)\n",
    "  boundary_loss = torch.mean((u_boundary - boundary_values[:, 0:1])**2 + (v_boundary - boundary_values[:, 1:2])**2 +\n",
    "                               (w_boundary - boundary_values[:, 2:3])**2 + (p_boundary - boundary_values[:, 3:4])**2)\n",
    "\n",
    "  # Combine Loss\n",
    "  loss = torch.mean(continuity**2) + torch.mean(momentum_x**2) + torch.mean(momentum_y**2) + torch.mean(momentum_z**2) + boundary_loss\n",
    "  return loss"
   ]
  },
  {
   "cell_type": "markdown",
   "metadata": {
    "id": "fyHIe9H5xbA5"
   },
   "source": [
    "Training Process"
   ]
  },
  {
   "cell_type": "code",
   "execution_count": 31,
   "metadata": {
    "executionInfo": {
     "elapsed": 444,
     "status": "ok",
     "timestamp": 1735465945296,
     "user": {
      "displayName": "Kusum Agrawal",
      "userId": "07931089790696216293"
     },
     "user_tz": -330
    },
    "id": "s34jB-NLxe42"
   },
   "outputs": [
    {
     "name": "stdout",
     "output_type": "stream",
     "text": [
      "Epoch0, loss: 0.027138160541653633\n",
      "Epoch100, loss: 1.0750920409918763e-05\n",
      "Epoch200, loss: 6.6830116338678636e-06\n",
      "Epoch300, loss: 4.6492273213516455e-06\n",
      "Epoch400, loss: 3.214816388208419e-06\n",
      "Epoch500, loss: 2.2460512809630018e-06\n",
      "Epoch600, loss: 1.6006658825062914e-06\n",
      "Epoch700, loss: 1.1713754020092892e-06\n",
      "Epoch800, loss: 8.832956837068195e-07\n",
      "Epoch900, loss: 6.859414156679122e-07\n",
      "Model Trining complete\n"
     ]
    }
   ],
   "source": [
    "if __name__==\"__main__\":\n",
    "  #collocation points (x, y,z)\n",
    "  collocation_points = torch.rand((10000,3), requires_grad=True)\n",
    "\n",
    "  #boundary points and values\n",
    "  boundary_points=torch.rand((1000,3), requires_grad=True)\n",
    "  boundary_values=torch.zeros((1000,4)) #modify based on boundary conditions\n",
    "\n",
    "  #Reynodls number\n",
    "  Re=100\n",
    "\n",
    "  #model initialization\n",
    "  model=PINN()\n",
    "  #print(list(model.parameters()))\n",
    "  optimizer=optim.Adam(model.parameters(),lr=0.001)\n",
    "\n",
    "  #training loop\n",
    "  for epoch in range(1000):\n",
    "    optimizer.zero_grad()\n",
    "    loss=pinn_loss(model, collocation_points, boundary_points, boundary_values, Re)\n",
    "    loss.backward()\n",
    "    optimizer.step()\n",
    "\n",
    "    if epoch % 100 == 0:\n",
    "      print(f\"Epoch{epoch}, loss: {loss.item()}\")\n",
    "\n",
    "  #save model\n",
    "  torch.save(model.state_dict(), \"pinn_model.pt\")\n",
    "  print(\"Model Trining complete\")"
   ]
  }
 ],
 "metadata": {
  "accelerator": "GPU",
  "colab": {
   "authorship_tag": "ABX9TyO991qwG/IXUES48qIH8do8",
   "gpuType": "T4",
   "provenance": []
  },
  "kernelspec": {
   "display_name": "env1",
   "language": "python",
   "name": "python3"
  },
  "language_info": {
   "codemirror_mode": {
    "name": "ipython",
    "version": 3
   },
   "file_extension": ".py",
   "mimetype": "text/x-python",
   "name": "python",
   "nbconvert_exporter": "python",
   "pygments_lexer": "ipython3",
   "version": "3.12.3"
  }
 },
 "nbformat": 4,
 "nbformat_minor": 0
}
